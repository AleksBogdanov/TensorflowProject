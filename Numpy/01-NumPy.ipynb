{
 "cells": [
  {
   "cell_type": "code",
   "execution_count": 1,
   "metadata": {},
   "outputs": [],
   "source": [
    "import tensorflow"
   ]
  },
  {
   "cell_type": "code",
   "execution_count": 2,
   "metadata": {},
   "outputs": [],
   "source": [
    "import numpy as np"
   ]
  },
  {
   "cell_type": "code",
   "execution_count": 3,
   "metadata": {},
   "outputs": [],
   "source": [
    "my_list = [1, 2, 3, 4]"
   ]
  },
  {
   "cell_type": "code",
   "execution_count": 6,
   "metadata": {},
   "outputs": [
    {
     "name": "stdout",
     "output_type": "stream",
     "text": [
      "[1 2 3 4]\n"
     ]
    }
   ],
   "source": [
    "print(np.array(my_list))"
   ]
  },
  {
   "cell_type": "code",
   "execution_count": 7,
   "metadata": {},
   "outputs": [
    {
     "name": "stdout",
     "output_type": "stream",
     "text": [
      "[1 2 3 4 5 6 7 8 9]\n"
     ]
    }
   ],
   "source": [
    "print(np.arange(1, 10))"
   ]
  },
  {
   "cell_type": "code",
   "execution_count": 8,
   "metadata": {},
   "outputs": [
    {
     "name": "stdout",
     "output_type": "stream",
     "text": [
      "[[1 2 3]\n",
      " [4 5 6]\n",
      " [7 8 9]]\n"
     ]
    }
   ],
   "source": [
    "# Casting nested list into 3 by 3 matrix\n",
    "nested_list = [[1,2,3], [4,5,6], [7,8,9]]\n",
    "print(np.array(nested_list))"
   ]
  },
  {
   "cell_type": "code",
   "execution_count": 13,
   "metadata": {},
   "outputs": [
    {
     "data": {
      "text/plain": [
       "array([20, 26, 32, 38, 44, 50, 56, 62, 68, 74, 80, 86, 92, 98])"
      ]
     },
     "execution_count": 13,
     "metadata": {},
     "output_type": "execute_result"
    }
   ],
   "source": [
    "# Step size of arange\n",
    "np.arange(20, 100, 6)"
   ]
  },
  {
   "cell_type": "code",
   "execution_count": 12,
   "metadata": {},
   "outputs": [
    {
     "data": {
      "text/plain": [
       "array([0., 0., 0.])"
      ]
     },
     "execution_count": 12,
     "metadata": {},
     "output_type": "execute_result"
    }
   ],
   "source": [
    "np.zeros(3)"
   ]
  },
  {
   "cell_type": "code",
   "execution_count": 14,
   "metadata": {},
   "outputs": [
    {
     "data": {
      "text/plain": [
       "array([[[0., 0., 0., 0.],\n",
       "        [0., 0., 0., 0.],\n",
       "        [0., 0., 0., 0.],\n",
       "        [0., 0., 0., 0.]],\n",
       "\n",
       "       [[0., 0., 0., 0.],\n",
       "        [0., 0., 0., 0.],\n",
       "        [0., 0., 0., 0.],\n",
       "        [0., 0., 0., 0.]],\n",
       "\n",
       "       [[0., 0., 0., 0.],\n",
       "        [0., 0., 0., 0.],\n",
       "        [0., 0., 0., 0.],\n",
       "        [0., 0., 0., 0.]],\n",
       "\n",
       "       [[0., 0., 0., 0.],\n",
       "        [0., 0., 0., 0.],\n",
       "        [0., 0., 0., 0.],\n",
       "        [0., 0., 0., 0.]]])"
      ]
     },
     "execution_count": 14,
     "metadata": {},
     "output_type": "execute_result"
    }
   ],
   "source": [
    "# Shape (4, 4, 4)\n",
    "np.zeros((4, 4, 4))"
   ]
  },
  {
   "cell_type": "code",
   "execution_count": 18,
   "metadata": {},
   "outputs": [
    {
     "data": {
      "text/plain": [
       "array([[1.]])"
      ]
     },
     "execution_count": 18,
     "metadata": {},
     "output_type": "execute_result"
    }
   ],
   "source": [
    "# np.ones\n",
    "np.ones((1, 1))"
   ]
  },
  {
   "cell_type": "code",
   "execution_count": 20,
   "metadata": {},
   "outputs": [
    {
     "data": {
      "text/plain": [
       "array([1., 2., 3., 4., 5.])"
      ]
     },
     "execution_count": 20,
     "metadata": {},
     "output_type": "execute_result"
    }
   ],
   "source": [
    "# linspace -> start, end and number of points\n",
    "np.linspace(1, 5, 5)"
   ]
  },
  {
   "cell_type": "code",
   "execution_count": 25,
   "metadata": {},
   "outputs": [
    {
     "data": {
      "text/plain": [
       "array([0.61449474, 0.47486339])"
      ]
     },
     "execution_count": 25,
     "metadata": {},
     "output_type": "execute_result"
    }
   ],
   "source": [
    "# diagonals of ones\n",
    "np.eye(5)\n",
    "# random distribution from 0 to 1\n",
    "np.random.rand(2)"
   ]
  },
  {
   "cell_type": "code",
   "execution_count": 26,
   "metadata": {},
   "outputs": [
    {
     "data": {
      "text/plain": [
       "array([ 0.53291534, -0.83469244])"
      ]
     },
     "execution_count": 26,
     "metadata": {},
     "output_type": "execute_result"
    }
   ],
   "source": [
    "# normal distribution\n",
    "np.random.randn(2)\n",
    "\n"
   ]
  },
  {
   "cell_type": "code",
   "execution_count": 41,
   "metadata": {},
   "outputs": [
    {
     "name": "stdout",
     "output_type": "stream",
     "text": [
      "[9 9 7 3 9 8 3 2 6 5]\n"
     ]
    }
   ],
   "source": [
    "np.random.seed(2) # Leaving this here implies that the random numbers after the next execution will be the same\n",
    "print(np.random.randint(1, 10, 10))"
   ]
  },
  {
   "cell_type": "code",
   "execution_count": 44,
   "metadata": {},
   "outputs": [
    {
     "name": "stdout",
     "output_type": "stream",
     "text": [
      "[5 2 8 9 3 9 8 2 7 9]\n"
     ]
    }
   ],
   "source": [
    "print(np.random.randint(1, 10, 10))"
   ]
  },
  {
   "cell_type": "code",
   "execution_count": 50,
   "metadata": {},
   "outputs": [
    {
     "name": "stdout",
     "output_type": "stream",
     "text": [
      "[[ 98 147  88]\n",
      " [151  44  53]]\n"
     ]
    },
    {
     "data": {
      "text/plain": [
       "array([[ 98, 147],\n",
       "       [ 88, 151],\n",
       "       [ 44,  53]])"
      ]
     },
     "execution_count": 50,
     "metadata": {},
     "output_type": "execute_result"
    }
   ],
   "source": [
    "# reshaping array \n",
    "arr = np.random.randint(1, 200, (2, 3))\n",
    "print(arr)\n",
    "\n",
    "\n",
    "np.reshape(arr, (3, 2)) # The new shape must be contain the same number of elements"
   ]
  },
  {
   "cell_type": "code",
   "execution_count": 61,
   "metadata": {},
   "outputs": [
    {
     "name": "stdout",
     "output_type": "stream",
     "text": [
      "[0.70204204 0.70654201 0.48102176 0.96031373 0.42602253 0.32287421\n",
      " 0.76193    0.93262856 0.71121724 0.51743076]\n"
     ]
    },
    {
     "ename": "IndexError",
     "evalue": "too many indices for array: array is 1-dimensional, but 2 were indexed",
     "output_type": "error",
     "traceback": [
      "\u001b[0;31m---------------------------------------------------------------------------\u001b[0m",
      "\u001b[0;31mIndexError\u001b[0m                                Traceback (most recent call last)",
      "Cell \u001b[0;32mIn[61], line 4\u001b[0m\n\u001b[1;32m      1\u001b[0m \u001b[39m# max and maxvalue index location\u001b[39;00m\n\u001b[1;32m      2\u001b[0m \u001b[39m#arr.max(), arr.argmax()\u001b[39;00m\n\u001b[1;32m      3\u001b[0m \u001b[39mprint\u001b[39m(arr) \n\u001b[0;32m----> 4\u001b[0m \u001b[39mprint\u001b[39m(arr[\u001b[39m0\u001b[39;49m, \u001b[39m1\u001b[39;49m]) \u001b[39m# Indexing\u001b[39;00m\n\u001b[1;32m      5\u001b[0m \u001b[39mprint\u001b[39m(arr[\u001b[39m0\u001b[39m:\u001b[39m2\u001b[39m]) \u001b[39m# Slicing\u001b[39;00m\n\u001b[1;32m      7\u001b[0m \u001b[39m# Unlike normal Python list, arrays can be broadcasted, a single value can replace slice of the array\u001b[39;00m\n",
      "\u001b[0;31mIndexError\u001b[0m: too many indices for array: array is 1-dimensional, but 2 were indexed"
     ]
    }
   ],
   "source": [
    "# max and maxvalue index location\n",
    "#arr.max(), arr.argmax()\n",
    "print(arr) \n",
    "print(arr[0, 1]) # Indexing\n",
    "print(arr[0:2]) # Slicing\n"
   ]
  },
  {
   "cell_type": "code",
   "execution_count": 68,
   "metadata": {},
   "outputs": [
    {
     "name": "stdout",
     "output_type": "stream",
     "text": [
      "[36 22 19 95 17 45 72 37  9 21]\n",
      "[   36    22 10000 10000 10000 10000    72    37     9    21]\n"
     ]
    }
   ],
   "source": [
    "\n",
    "# Unlike normal Python list, arrays can be broadcasted, a single value can replace slice of the array\n",
    "\n",
    "arr = np.random.randint(0, 100, 10)\n",
    "print(arr)\n",
    "\n",
    "arr[2:6] = 10000 # Multiple values get 10000\n",
    "print(arr)"
   ]
  },
  {
   "cell_type": "code",
   "execution_count": 78,
   "metadata": {},
   "outputs": [
    {
     "name": "stdout",
     "output_type": "stream",
     "text": [
      "[       36        22 234253523         0         0     10000        72\n",
      "        37         9        21]\n",
      "[ 0.  1.  2.  3.  4.  5.  6.  7.  8.  9. 10.]\n",
      "[0. 1. 2. 3. 4. 5.]\n"
     ]
    }
   ],
   "source": [
    "# Assigning array to new variable, always points to the old array. So use copy\n",
    "new_arr = arr[2:8]\n",
    "new_arr[0] = 234253523\n",
    "#print(new_arr)\n",
    "print(arr) \n",
    "\n",
    "\n",
    "# Quite useful\n",
    "arr1 = np.linspace(0, 10, 11)\n",
    "print(arr1)\n",
    "print(arr1[arr1 < 6]) # Use as a filter"
   ]
  },
  {
   "attachments": {},
   "cell_type": "markdown",
   "metadata": {},
   "source": [
    "Operations\n"
   ]
  },
  {
   "cell_type": "code",
   "execution_count": 92,
   "metadata": {},
   "outputs": [
    {
     "name": "stdout",
     "output_type": "stream",
     "text": [
      "145\n",
      "14.5\n",
      "[[3.16227766 3.31662479 3.46410162 3.60555128 3.74165739]\n",
      " [3.87298335 4.         4.12310563 4.24264069 4.35889894]]\n",
      "[[-10 -11 -12 -13 -14]\n",
      " [-15 -16 -17 -18 -19]]\n"
     ]
    }
   ],
   "source": [
    "arr = np.arange(10, 20)\n",
    "arr = arr.reshape(2, 5)\n",
    "arr + 5\n",
    "arr - arr\n",
    "arr / 2\n",
    "\n",
    "print(arr.sum()) # taking sum of an array\n",
    "print(arr.mean()) # taking mean of an array\n",
    "print(np.sqrt(arr)) # taking sqrt\n",
    "print(np.negative(arr)) # taking negative"
   ]
  },
  {
   "cell_type": "code",
   "execution_count": null,
   "metadata": {},
   "outputs": [],
   "source": []
  }
 ],
 "metadata": {
  "kernelspec": {
   "display_name": "AI",
   "language": "python",
   "name": "python3"
  },
  "language_info": {
   "codemirror_mode": {
    "name": "ipython",
    "version": 3
   },
   "file_extension": ".py",
   "mimetype": "text/x-python",
   "name": "python",
   "nbconvert_exporter": "python",
   "pygments_lexer": "ipython3",
   "version": "3.10.13"
  },
  "orig_nbformat": 4
 },
 "nbformat": 4,
 "nbformat_minor": 2
}
